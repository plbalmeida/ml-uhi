{
 "cells": [
  {
   "cell_type": "markdown",
   "metadata": {},
   "source": [
    "# Preprocessing CGE data"
   ]
  },
  {
   "cell_type": "code",
   "execution_count": 2,
   "metadata": {},
   "outputs": [],
   "source": [
    "# to import custom modules\n",
    "import os\n",
    "import sys\n",
    "\n",
    "module_path = os.path.abspath(os.path.join('..'))\n",
    "if module_path not in sys.path:\n",
    "    sys.path.append(module_path)\n",
    "\n",
    "import boto3\n",
    "import io\n",
    "import json\n",
    "import pandas as pd\n",
    "from src.preprocessing.data_preparation_and_cleaning import change_features_names, get_station_name"
   ]
  },
  {
   "cell_type": "code",
   "execution_count": 3,
   "metadata": {},
   "outputs": [],
   "source": [
    "# AWS credentials to read files on S3 bucket\n",
    "f = open('../credentials.json')\n",
    "credentials = json.load(f)\n",
    "\n",
    "s3_client = boto3.client(\n",
    "    's3',\n",
    "    aws_access_key_id=credentials[\"Access key ID\"],\n",
    "    aws_secret_access_key=credentials[\"Secret access key\"]\n",
    "    )\n",
    "\n",
    "s3_resource = boto3.resource(\n",
    "    's3',\n",
    "    aws_access_key_id=credentials[\"Access key ID\"],\n",
    "    aws_secret_access_key=credentials[\"Secret access key\"]\n",
    "    )"
   ]
  },
  {
   "cell_type": "code",
   "execution_count": 4,
   "metadata": {},
   "outputs": [],
   "source": [
    "df_full = []\n",
    "for year in list(range(2009, 2019+1)):  \n",
    "    prefix=f\"raw/{year}/\"\n",
    "    prefix_objs = s3_resource.Bucket(\"cge\").objects.filter(Prefix=prefix)\n",
    "    keys = [obj.key for obj in prefix_objs]\n",
    "    for key in keys:\n",
    "        obj = s3_client.get_object(Bucket=\"cge\", Key=key)\n",
    "        df = pd.read_csv(io.BytesIO(obj[\"Body\"].read()))\n",
    "        df_full.append(df)"
   ]
  },
  {
   "cell_type": "code",
   "execution_count": 5,
   "metadata": {},
   "outputs": [
    {
     "ename": "",
     "evalue": "",
     "output_type": "error",
     "traceback": [
      "\u001b[1;31mCanceled future for execute_request message before replies were done"
     ]
    },
    {
     "ename": "",
     "evalue": "",
     "output_type": "error",
     "traceback": [
      "\u001b[1;31mThe Kernel crashed while executing code in the the current cell or a previous cell. Please review the code in the cell(s) to identify a possible cause of the failure. Click <a href='https://aka.ms/vscodeJupyterKernelCrash'>here</a> for more info. View Jupyter <a href='command:jupyter.viewOutput'>log</a> for further details."
     ]
    }
   ],
   "source": [
    "cge = pd.concat(df_full, ignore_index=True)\n",
    "cge = cge.drop_duplicates(ignore_index=True)\n",
    "cge = get_station_name(cge)\n",
    "cge[['Posto Nome']] = cge[['Posto Nome']].replace('NaN', '1000300')\n",
    "\n",
    "cge = cge[[\n",
    "    'Posto',\n",
    "    'Posto Nome',\n",
    "    'DATA',\n",
    "    'PLU(mm)',\n",
    "    'Vel.VT(m/s)',\n",
    "    'Dir.VT(o)',\n",
    "    'Temp(oC)',\n",
    "    'Umid.Rel.(%)',\n",
    "    'Pressão(mb)',\n",
    "    'Rajada.VT(m/s)',\n",
    "    'Sens. Térmica(°C)'\n",
    "    ]]\n",
    "\n",
    "cge = cge[cge['Posto Nome'].isin(['Sé', 'Lapa', 'Pirituba', 'Penha', 'Jabaquara', 'Parelheiros'])]\n",
    "cge = change_features_names(cge)\n",
    "cge = cge.dropna(subset=['temperature'])\n",
    "cge = feature_engineer_pipeline(cge)"
   ]
  },
  {
   "cell_type": "code",
   "execution_count": null,
   "metadata": {},
   "outputs": [],
   "source": [
    "cge.station_name.unique()"
   ]
  },
  {
   "cell_type": "code",
   "execution_count": null,
   "metadata": {},
   "outputs": [],
   "source": [
    "for i in cge.station_name.unique():\n",
    "    print(i, cge[cge.station_name == i].timestamp.max())"
   ]
  },
  {
   "cell_type": "code",
   "execution_count": null,
   "metadata": {},
   "outputs": [],
   "source": [
    "cge"
   ]
  }
 ],
 "metadata": {
  "kernelspec": {
   "display_name": "Python 3.10.6 64-bit",
   "language": "python",
   "name": "python3"
  },
  "language_info": {
   "codemirror_mode": {
    "name": "ipython",
    "version": 3
   },
   "file_extension": ".py",
   "mimetype": "text/x-python",
   "name": "python",
   "nbconvert_exporter": "python",
   "pygments_lexer": "ipython3",
   "version": "3.10.6"
  },
  "vscode": {
   "interpreter": {
    "hash": "916dbcbb3f70747c44a77c7bcd40155683ae19c65e1c03b4aa3499c5328201f1"
   }
  }
 },
 "nbformat": 4,
 "nbformat_minor": 2
}
