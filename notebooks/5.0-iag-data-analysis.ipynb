{
 "cells": [
  {
   "cell_type": "code",
   "execution_count": 1,
   "metadata": {},
   "outputs": [],
   "source": [
    "import boto3\n",
    "import io\n",
    "import json\n",
    "import pandas as pd"
   ]
  },
  {
   "cell_type": "code",
   "execution_count": 2,
   "metadata": {},
   "outputs": [],
   "source": [
    "# AWS credentials to read files on S3 bucket\n",
    "f = open('../credentials.json')\n",
    "credentials = json.load(f)\n",
    "\n",
    "s3_client = boto3.client(\n",
    "    \"s3\",\n",
    "    aws_access_key_id=credentials[\"Access key ID\"],\n",
    "    aws_secret_access_key=credentials[\"Secret access key\"]\n",
    "    )\n",
    "\n",
    "s3_resource = boto3.resource(\n",
    "    \"s3\",\n",
    "    aws_access_key_id=credentials[\"Access key ID\"],\n",
    "    aws_secret_access_key=credentials[\"Secret access key\"]\n",
    "    )"
   ]
  },
  {
   "cell_type": "code",
   "execution_count": 21,
   "metadata": {},
   "outputs": [
    {
     "data": {
      "text/html": [
       "<div>\n",
       "<style scoped>\n",
       "    .dataframe tbody tr th:only-of-type {\n",
       "        vertical-align: middle;\n",
       "    }\n",
       "\n",
       "    .dataframe tbody tr th {\n",
       "        vertical-align: top;\n",
       "    }\n",
       "\n",
       "    .dataframe thead th {\n",
       "        text-align: right;\n",
       "    }\n",
       "</style>\n",
       "<table border=\"1\" class=\"dataframe\">\n",
       "  <thead>\n",
       "    <tr style=\"text-align: right;\">\n",
       "      <th></th>\n",
       "      <th>0.441</th>\n",
       "      <th>930.586</th>\n",
       "      <th>10.583</th>\n",
       "      <th>44</th>\n",
       "      <th>2017</th>\n",
       "      <th>9</th>\n",
       "    </tr>\n",
       "  </thead>\n",
       "  <tbody>\n",
       "    <tr>\n",
       "      <th>0</th>\n",
       "      <td>0.444</td>\n",
       "      <td>930.584</td>\n",
       "      <td>10.667</td>\n",
       "      <td>44</td>\n",
       "      <td>2017</td>\n",
       "      <td>9</td>\n",
       "    </tr>\n",
       "    <tr>\n",
       "      <th>1</th>\n",
       "      <td>0.448</td>\n",
       "      <td>930.568</td>\n",
       "      <td>10.750</td>\n",
       "      <td>44</td>\n",
       "      <td>2017</td>\n",
       "      <td>9</td>\n",
       "    </tr>\n",
       "    <tr>\n",
       "      <th>2</th>\n",
       "      <td>0.455</td>\n",
       "      <td>915.193</td>\n",
       "      <td>10.917</td>\n",
       "      <td>44</td>\n",
       "      <td>2017</td>\n",
       "      <td>9</td>\n",
       "    </tr>\n",
       "    <tr>\n",
       "      <th>3</th>\n",
       "      <td>0.458</td>\n",
       "      <td>930.608</td>\n",
       "      <td>11.000</td>\n",
       "      <td>44</td>\n",
       "      <td>2017</td>\n",
       "      <td>9</td>\n",
       "    </tr>\n",
       "    <tr>\n",
       "      <th>4</th>\n",
       "      <td>0.462</td>\n",
       "      <td>930.627</td>\n",
       "      <td>11.083</td>\n",
       "      <td>44</td>\n",
       "      <td>2017</td>\n",
       "      <td>9</td>\n",
       "    </tr>\n",
       "    <tr>\n",
       "      <th>...</th>\n",
       "      <td>...</td>\n",
       "      <td>...</td>\n",
       "      <td>...</td>\n",
       "      <td>...</td>\n",
       "      <td>...</td>\n",
       "      <td>...</td>\n",
       "    </tr>\n",
       "    <tr>\n",
       "      <th>86342</th>\n",
       "      <td>0.983</td>\n",
       "      <td>929.152</td>\n",
       "      <td>23.583</td>\n",
       "      <td>365</td>\n",
       "      <td>2017</td>\n",
       "      <td>9</td>\n",
       "    </tr>\n",
       "    <tr>\n",
       "      <th>86343</th>\n",
       "      <td>0.986</td>\n",
       "      <td>929.175</td>\n",
       "      <td>23.667</td>\n",
       "      <td>365</td>\n",
       "      <td>2017</td>\n",
       "      <td>9</td>\n",
       "    </tr>\n",
       "    <tr>\n",
       "      <th>86344</th>\n",
       "      <td>0.990</td>\n",
       "      <td>929.130</td>\n",
       "      <td>23.750</td>\n",
       "      <td>365</td>\n",
       "      <td>2017</td>\n",
       "      <td>9</td>\n",
       "    </tr>\n",
       "    <tr>\n",
       "      <th>86345</th>\n",
       "      <td>0.993</td>\n",
       "      <td>929.172</td>\n",
       "      <td>23.833</td>\n",
       "      <td>365</td>\n",
       "      <td>2017</td>\n",
       "      <td>9</td>\n",
       "    </tr>\n",
       "    <tr>\n",
       "      <th>86346</th>\n",
       "      <td>0.997</td>\n",
       "      <td>929.111</td>\n",
       "      <td>23.917</td>\n",
       "      <td>365</td>\n",
       "      <td>2017</td>\n",
       "      <td>9</td>\n",
       "    </tr>\n",
       "  </tbody>\n",
       "</table>\n",
       "<p>86347 rows × 6 columns</p>\n",
       "</div>"
      ],
      "text/plain": [
       "       0.441  930.586  10.583   44  2017  9\n",
       "0      0.444  930.584  10.667   44  2017  9\n",
       "1      0.448  930.568  10.750   44  2017  9\n",
       "2      0.455  915.193  10.917   44  2017  9\n",
       "3      0.458  930.608  11.000   44  2017  9\n",
       "4      0.462  930.627  11.083   44  2017  9\n",
       "...      ...      ...     ...  ...   ... ..\n",
       "86342  0.983  929.152  23.583  365  2017  9\n",
       "86343  0.986  929.175  23.667  365  2017  9\n",
       "86344  0.990  929.130  23.750  365  2017  9\n",
       "86345  0.993  929.172  23.833  365  2017  9\n",
       "86346  0.997  929.111  23.917  365  2017  9\n",
       "\n",
       "[86347 rows x 6 columns]"
      ]
     },
     "execution_count": 21,
     "metadata": {},
     "output_type": "execute_result"
    }
   ],
   "source": [
    "# get IAG .dat data from S3 bucket\n",
    "prefix_objs = s3_resource.Bucket(\"iag-usp\").objects.filter(Prefix=f\"raw/\")\n",
    "keys = [obj.key for obj in prefix_objs]\n",
    "obj = s3_client.get_object(Bucket=\"iag-usp\", Key='raw/PR40_IT_17.DAT')\n",
    "df = pd.read_csv(io.BytesIO(obj[\"Body\"].read()), sep=\"\\s+\")\n",
    "df"
   ]
  },
  {
   "cell_type": "code",
   "execution_count": 13,
   "metadata": {},
   "outputs": [
    {
     "data": {
      "text/plain": [
       "['#HR',\n",
       " 'YD',\n",
       " 'Year',\n",
       " 'T_CS215(C)',\n",
       " 'RH_CS215(%)',\n",
       " 'WS_034B(ms)',\n",
       " 'WD_034B(degree)',\n",
       " 'NetRL1(Wm2)',\n",
       " 'Precip(mm)']"
      ]
     },
     "execution_count": 13,
     "metadata": {},
     "output_type": "execute_result"
    }
   ],
   "source": [
    "# raw/ITU_2017.dat\n",
    "list(df.columns)"
   ]
  },
  {
   "cell_type": "code",
   "execution_count": 15,
   "metadata": {},
   "outputs": [
    {
     "data": {
      "text/plain": [
       "['0.441', '930.586', '10.583', '44', '2017', '9']"
      ]
     },
     "execution_count": 15,
     "metadata": {},
     "output_type": "execute_result"
    }
   ],
   "source": [
    "# raw/PR40_IT_17.DAT\n",
    "list(df.columns)"
   ]
  },
  {
   "cell_type": "code",
   "execution_count": 17,
   "metadata": {},
   "outputs": [
    {
     "data": {
      "text/plain": [
       "['#HR',\n",
       " 'YD',\n",
       " 'Year',\n",
       " 'T_CS215(C)',\n",
       " 'RH_CS215(%)',\n",
       " 'WS_034B(ms)',\n",
       " 'WD_034B(degree)',\n",
       " 'NetRL1(Wm2)',\n",
       " 'Precip(mm)',\n",
       " 'WS_CSAT(m/s)',\n",
       " 'WD_CSAT(degree)']"
      ]
     },
     "execution_count": 17,
     "metadata": {},
     "output_type": "execute_result"
    }
   ],
   "source": [
    "# raw/SFZ_2017.dat\n",
    "list(df.columns)"
   ]
  },
  {
   "cell_type": "code",
   "execution_count": 19,
   "metadata": {},
   "outputs": [
    {
     "data": {
      "text/plain": [
       "['#HR',\n",
       " 'YD',\n",
       " 'Year',\n",
       " 'SW_CMP3(Wm2)',\n",
       " 'T_GMX(C)',\n",
       " 'RH_GMX(%)',\n",
       " 'P_GMX(mb)',\n",
       " 'WD_GMX(degree)',\n",
       " 'WS_GMX(ms)',\n",
       " 'T_CS215_e(C)',\n",
       " 'RH_CS215_e(%)']"
      ]
     },
     "execution_count": 19,
     "metadata": {},
     "output_type": "execute_result"
    }
   ],
   "source": [
    "# raw/SFZe_2017.dat\n",
    "list(df.columns)"
   ]
  },
  {
   "cell_type": "code",
   "execution_count": 11,
   "metadata": {},
   "outputs": [
    {
     "data": {
      "text/plain": [
       "['raw/',\n",
       " 'raw/ITU_2017.dat',\n",
       " 'raw/PR40_IT_17.DAT',\n",
       " 'raw/SFZ_2017.dat',\n",
       " 'raw/SFZe_2017.dat']"
      ]
     },
     "execution_count": 11,
     "metadata": {},
     "output_type": "execute_result"
    }
   ],
   "source": [
    "# raw/PR40_IT_17.DAT"
   ]
  }
 ],
 "metadata": {
  "kernelspec": {
   "display_name": "Python 3.10.6 ('venv': venv)",
   "language": "python",
   "name": "python3"
  },
  "language_info": {
   "codemirror_mode": {
    "name": "ipython",
    "version": 3
   },
   "file_extension": ".py",
   "mimetype": "text/x-python",
   "name": "python",
   "nbconvert_exporter": "python",
   "pygments_lexer": "ipython3",
   "version": "3.10.6"
  },
  "orig_nbformat": 4,
  "vscode": {
   "interpreter": {
    "hash": "db47b8fdeef4066c7b0c10cda5b09b572f977692e5bd5d4574e0651a945f467a"
   }
  }
 },
 "nbformat": 4,
 "nbformat_minor": 2
}
